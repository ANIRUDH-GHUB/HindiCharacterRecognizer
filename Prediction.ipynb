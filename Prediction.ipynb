{
 "cells": [
  {
   "cell_type": "markdown",
   "id": "7ceed7de",
   "metadata": {},
   "source": [
    "### Modules"
   ]
  },
  {
   "cell_type": "code",
   "execution_count": 1,
   "id": "1c108e8c",
   "metadata": {},
   "outputs": [
    {
     "name": "stdout",
     "output_type": "stream",
     "text": [
      "INFO:tensorflow:Enabling eager execution\n",
      "INFO:tensorflow:Enabling v2 tensorshape\n",
      "INFO:tensorflow:Enabling resource variables\n",
      "INFO:tensorflow:Enabling tensor equality\n",
      "INFO:tensorflow:Enabling control flow v2\n"
     ]
    }
   ],
   "source": [
    "import tensorflow as tf\n",
    "gpus = tf.config.experimental.list_physical_devices('GPU')\n",
    "if gpus:\n",
    "    try:\n",
    "        for gpu in gpus:\n",
    "            tf.config.experimental.set_memory_growth(gpu, True)\n",
    "    except RuntimeError as e:\n",
    "        print(e)"
   ]
  },
  {
   "cell_type": "code",
   "execution_count": 2,
   "id": "b0434697",
   "metadata": {},
   "outputs": [],
   "source": [
    "from keras.models import load_model\n",
    "from tkinter import filedialog,Tk\n",
    "import numpy as np\n",
    "from keras.preprocessing import image\n",
    "import cv2"
   ]
  },
  {
   "cell_type": "markdown",
   "id": "0a4a2204",
   "metadata": {},
   "source": [
    "### Loading Trained Model"
   ]
  },
  {
   "cell_type": "code",
   "execution_count": 3,
   "id": "80757775",
   "metadata": {},
   "outputs": [],
   "source": [
    "model=load_model(\"Models/HCRModel.h5\")\n"
   ]
  },
  {
   "cell_type": "markdown",
   "id": "79ae326b",
   "metadata": {},
   "source": [
    "### Loading Labels"
   ]
  },
  {
   "cell_type": "code",
   "execution_count": 4,
   "id": "47cea229",
   "metadata": {},
   "outputs": [],
   "source": [
    "from labels import pred_to_label"
   ]
  },
  {
   "cell_type": "markdown",
   "id": "08efec60",
   "metadata": {},
   "source": [
    "### Character Recognizer"
   ]
  },
  {
   "cell_type": "code",
   "execution_count": 7,
   "id": "aaedd7e0",
   "metadata": {},
   "outputs": [
    {
     "name": "stdout",
     "output_type": "stream",
     "text": [
      "ह क क क "
     ]
    }
   ],
   "source": [
    "root=Tk()\n",
    "for _ in range(4):\n",
    "    root.filename=filedialog.askopenfilename()\n",
    "    root.withdraw()\n",
    "    test_image=image.load_img(root.filename,target_size=(32,32))\n",
    "    test_image=image.img_to_array(test_image)   \n",
    "    test_image=np.expand_dims(test_image,axis=0)\n",
    "    pred_image=model.predict_classes(test_image)\n",
    "    print(pred_to_label[pred_image[0]], end = \" \")\n",
    "\n"
   ]
  },
  {
   "cell_type": "code",
   "execution_count": null,
   "id": "fee9e5f8",
   "metadata": {},
   "outputs": [],
   "source": []
  }
 ],
 "metadata": {
  "kernelspec": {
   "display_name": "Python 3",
   "language": "python",
   "name": "python3"
  },
  "language_info": {
   "codemirror_mode": {
    "name": "ipython",
    "version": 3
   },
   "file_extension": ".py",
   "mimetype": "text/x-python",
   "name": "python",
   "nbconvert_exporter": "python",
   "pygments_lexer": "ipython3",
   "version": "3.9.4"
  }
 },
 "nbformat": 4,
 "nbformat_minor": 5
}
