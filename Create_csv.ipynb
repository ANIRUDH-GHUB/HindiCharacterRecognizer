{
 "cells": [
  {
   "cell_type": "markdown",
   "metadata": {},
   "source": [
    "# Creating CSV of the dataset"
   ]
  },
  {
   "cell_type": "code",
   "execution_count": 1,
   "metadata": {},
   "outputs": [],
   "source": [
    "from PIL import Image, ImageOps\n",
    "import numpy as np\n",
    "import os\n",
    "import pandas as pd"
   ]
  },
  {
   "cell_type": "markdown",
   "metadata": {},
   "source": [
    "### Setting Dataset path"
   ]
  },
  {
   "cell_type": "code",
   "execution_count": 2,
   "metadata": {},
   "outputs": [],
   "source": [
    "test = \"Dataset/Test\"\n",
    "train = \"Dataset/Train\""
   ]
  },
  {
   "cell_type": "markdown",
   "metadata": {},
   "source": [
    "### Converting Image to array and save as .csv"
   ]
  },
  {
   "cell_type": "code",
   "execution_count": 19,
   "metadata": {},
   "outputs": [
    {
     "name": "stdout",
     "output_type": "stream",
     "text": [
      "----------Folder -  character_20_na  - done----------\n",
      "----------Folder -  character_15_adna  - done----------\n",
      "----------Folder -  character_36_gya  - done----------\n",
      "----------Folder -  character_26_yaw  - done----------\n",
      "----------Folder -  character_22_pha  - done----------\n",
      "----------Folder -  character_25_ma  - done----------\n",
      "----------Folder -  character_08_ja  - done----------\n",
      "----------Folder -  character_04_gha  - done----------\n",
      "----------Folder -  character_35_tra  - done----------\n",
      "----------Folder -  character_14_dhaa  - done----------\n",
      "----------Folder -  character_01_ka  - done----------\n",
      "----------Folder -  character_29_waw  - done----------\n",
      "----------Folder -  character_24_bha  - done----------\n",
      "----------Folder -  character_12_thaa  - done----------\n",
      "----------Folder -  character_13_daa  - done----------\n",
      "----------Folder -  character_16_tabala  - done----------\n",
      "----------Folder -  character_02_kha  - done----------\n",
      "----------Folder -  character_05_kna  - done----------\n",
      "----------Folder -  character_03_ga  - done----------\n",
      "----------Folder -  character_21_pa  - done----------\n",
      "----------Folder -  character_27_ra  - done----------\n",
      "----------Folder -  character_10_yna  - done----------\n",
      "----------Folder -  character_32_patalosaw  - done----------\n",
      "----------Folder -  character_19_dha  - done----------\n",
      "----------Folder -  character_06_cha  - done----------\n",
      "----------Folder -  character_11_taamatar  - done----------\n",
      "----------Folder -  character_31_petchiryakha  - done----------\n",
      "----------Folder -  character_17_tha  - done----------\n",
      "----------Folder -  character_18_da  - done----------\n",
      "----------Folder -  character_30_motosaw  - done----------\n",
      "----------Folder -  character_33_ha  - done----------\n",
      "----------Folder -  character_34_chhya  - done----------\n",
      "----------Folder -  character_07_chha  - done----------\n",
      "----------Folder -  character_23_ba  - done----------\n",
      "----------Folder -  character_28_la  - done----------\n",
      "----------Folder -  character_09_jha  - done----------\n"
     ]
    }
   ],
   "source": [
    "# Test Dataset\n",
    "for folder in os.listdir(test):\n",
    "    for file in os.listdir(test + '/' + folder):\n",
    "        # Setting image path\n",
    "        dest = test + \"/\" + folder + \"/\" + file\n",
    "        # Opening Image\n",
    "        img = Image.open(dest)\n",
    "        # Converting Image to array \n",
    "        value = np.asarray(img.getdata(), dtype=np.int)\n",
    "        value = value.flatten()\n",
    "        # Extracting labels\n",
    "        qwe = folder[13:]\n",
    "        # Adding Labels\n",
    "        value = np.hstack((qwe,value))\n",
    "        # Inserting values in a dataframe\n",
    "        df = pd.DataFrame(value).T\n",
    "        # Saving DataFrame\n",
    "        with open('test.csv', 'a') as dataset:\n",
    "            df.to_csv(dataset, header=False, index=False) \n",
    "    print (\"----------Folder - \", folder,\" - done----------\")"
   ]
  },
  {
   "cell_type": "code",
   "execution_count": 28,
   "metadata": {},
   "outputs": [
    {
     "name": "stdout",
     "output_type": "stream",
     "text": [
      "----------Folder -  character_20_na  - done----------\n",
      "----------Folder -  character_15_adna  - done----------\n",
      "----------Folder -  character_36_gya  - done----------\n",
      "----------Folder -  character_26_yaw  - done----------\n",
      "----------Folder -  character_22_pha  - done----------\n",
      "----------Folder -  character_25_ma  - done----------\n",
      "----------Folder -  character_08_ja  - done----------\n",
      "----------Folder -  character_04_gha  - done----------\n",
      "----------Folder -  character_35_tra  - done----------\n",
      "----------Folder -  character_14_dhaa  - done----------\n",
      "----------Folder -  character_01_ka  - done----------\n",
      "----------Folder -  character_29_waw  - done----------\n",
      "----------Folder -  character_24_bha  - done----------\n",
      "----------Folder -  character_12_thaa  - done----------\n",
      "----------Folder -  character_13_daa  - done----------\n",
      "----------Folder -  character_16_tabala  - done----------\n",
      "----------Folder -  character_02_kha  - done----------\n",
      "----------Folder -  character_05_kna  - done----------\n",
      "----------Folder -  character_03_ga  - done----------\n",
      "----------Folder -  character_21_pa  - done----------\n",
      "----------Folder -  character_27_ra  - done----------\n",
      "----------Folder -  character_10_yna  - done----------\n",
      "----------Folder -  character_32_patalosaw  - done----------\n",
      "----------Folder -  character_19_dha  - done----------\n",
      "----------Folder -  character_06_cha  - done----------\n",
      "----------Folder -  character_11_taamatar  - done----------\n",
      "----------Folder -  character_31_petchiryakha  - done----------\n",
      "----------Folder -  character_17_tha  - done----------\n",
      "----------Folder -  character_18_da  - done----------\n",
      "----------Folder -  character_30_motosaw  - done----------\n",
      "----------Folder -  character_33_ha  - done----------\n",
      "----------Folder -  character_34_chhya  - done----------\n",
      "----------Folder -  character_07_chha  - done----------\n",
      "----------Folder -  character_23_ba  - done----------\n",
      "----------Folder -  character_28_la  - done----------\n",
      "----------Folder -  character_09_jha  - done----------\n"
     ]
    }
   ],
   "source": [
    "# Train Dataset\n",
    "for folders in os.listdir(train):\n",
    "    for files in os.listdir(train + '/' + folders):\n",
    "        # Setting image path\n",
    "        dest = train + \"/\" + folders + \"/\" + files\n",
    "        # Opening Image\n",
    "        img = Image.open(dest)\n",
    "        # Converting Image to array \n",
    "        value = np.asarray(img.getdata(), dtype=np.int)\n",
    "        value = value.flatten()\n",
    "        # Extracting labels\n",
    "        qwer = folders[13:]\n",
    "        # Adding Labels\n",
    "        value = np.hstack((qwer,value))\n",
    "        # Inserting values in a dataframe\n",
    "        df = pd.DataFrame(value).T\n",
    "        # Saving DataFrame\n",
    "        with open('train.csv', 'a') as dataset:\n",
    "            df.to_csv(dataset, header=False, index=False) \n",
    "    print (\"----------Folder - \", folders,\" - done----------\")"
   ]
  }
 ],
 "metadata": {
  "kernelspec": {
   "display_name": "Python 3",
   "language": "python",
   "name": "python3"
  },
  "language_info": {
   "codemirror_mode": {
    "name": "ipython",
    "version": 3
   },
   "file_extension": ".py",
   "mimetype": "text/x-python",
   "name": "python",
   "nbconvert_exporter": "python",
   "pygments_lexer": "ipython3",
   "version": "3.8.5"
  }
 },
 "nbformat": 4,
 "nbformat_minor": 4
}
