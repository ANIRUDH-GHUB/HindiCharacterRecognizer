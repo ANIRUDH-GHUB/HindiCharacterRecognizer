{
 "cells": [
  {
   "cell_type": "markdown",
   "metadata": {},
   "source": [
    "# Training the Model"
   ]
  },
  {
   "cell_type": "code",
   "execution_count": 1,
   "metadata": {},
   "outputs": [],
   "source": [
    "import tensorflow as tf\n",
    "gpus = tf.config.experimental.list_physical_devices('GPU')\n",
    "if gpus:\n",
    "  try:\n",
    "    for gpu in gpus:\n",
    "      tf.config.experimental.set_memory_growth(gpu, True)\n",
    "  except RuntimeError as e:\n",
    "    print(e)"
   ]
  },
  {
   "cell_type": "code",
   "execution_count": 2,
   "metadata": {},
   "outputs": [],
   "source": [
    "import pandas as pd\n",
    "import numpy as np\n",
    "import random\n",
    "import os"
   ]
  },
  {
   "cell_type": "markdown",
   "metadata": {},
   "source": [
    "### Importing Data"
   ]
  },
  {
   "cell_type": "code",
   "execution_count": 3,
   "metadata": {},
   "outputs": [],
   "source": [
    "#Load Data\n",
    "Data_train = pd.read_csv(\"train.csv\") # Train data\n",
    "Data_test = pd.read_csv(\"test.csv\")  # Test data"
   ]
  },
  {
   "cell_type": "code",
   "execution_count": 4,
   "metadata": {},
   "outputs": [],
   "source": [
    "# Convert to DataFrame\n",
    "df_train = pd.DataFrame(Data_train)\n",
    "df_test = pd.DataFrame(Data_test)"
   ]
  },
  {
   "cell_type": "code",
   "execution_count": 5,
   "metadata": {},
   "outputs": [],
   "source": [
    "# Shuffle Rows\n",
    "df_train = df_train.sample(frac = 1)\n",
    "df_test  = df_test.sample(frac=1)"
   ]
  },
  {
   "cell_type": "code",
   "execution_count": 6,
   "metadata": {},
   "outputs": [],
   "source": [
    "# Convert to np array\n",
    "dataset_train = np.array(df_train)\n",
    "dataset_test = np.array(df_test)"
   ]
  },
  {
   "cell_type": "markdown",
   "metadata": {},
   "source": [
    "### Splitting in data and labels"
   ]
  },
  {
   "cell_type": "code",
   "execution_count": 7,
   "metadata": {},
   "outputs": [],
   "source": [
    "train_data = dataset_train[:,1:]    # Data\n",
    "train_label = dataset_train[:,0]   # Labels"
   ]
  },
  {
   "cell_type": "code",
   "execution_count": 8,
   "metadata": {},
   "outputs": [],
   "source": [
    "test_data  = dataset_test[:,1:]     # Data\n",
    "test_label = dataset_test[:,0]     # Labels"
   ]
  },
  {
   "cell_type": "markdown",
   "metadata": {},
   "source": [
    "### Normalize Data"
   ]
  },
  {
   "cell_type": "code",
   "execution_count": 9,
   "metadata": {},
   "outputs": [],
   "source": [
    "train_data  = train_data  / 255.    # Train\n",
    "test_data   = test_data   / 255.    # Test"
   ]
  },
  {
   "cell_type": "markdown",
   "metadata": {},
   "source": [
    "### Preparing labels"
   ]
  },
  {
   "cell_type": "code",
   "execution_count": 10,
   "metadata": {},
   "outputs": [],
   "source": [
    "# Dictionary for labels\n",
    "labels = {}"
   ]
  },
  {
   "cell_type": "code",
   "execution_count": 11,
   "metadata": {},
   "outputs": [],
   "source": [
    "# Path to classes\n",
    "path = 'Dataset/Test'"
   ]
  },
  {
   "cell_type": "code",
   "execution_count": 12,
   "metadata": {},
   "outputs": [],
   "source": [
    "# Adding lables in Dictionary\n",
    "i = 0\n",
    "for folder in os.listdir(path):\n",
    "    fold = folder[13:]\n",
    "    labels[i] = fold\n",
    "    i += 1"
   ]
  },
  {
   "cell_type": "code",
   "execution_count": 13,
   "metadata": {},
   "outputs": [
    {
     "data": {
      "text/plain": [
       "{0: 'na',\n",
       " 1: 'adna',\n",
       " 2: 'gya',\n",
       " 3: 'yaw',\n",
       " 4: 'pha',\n",
       " 5: 'ma',\n",
       " 6: 'ja',\n",
       " 7: 'gha',\n",
       " 8: 'tra',\n",
       " 9: 'dhaa',\n",
       " 10: 'ka',\n",
       " 11: 'waw',\n",
       " 12: 'bha',\n",
       " 13: 'thaa',\n",
       " 14: 'daa',\n",
       " 15: 'tabala',\n",
       " 16: 'kha',\n",
       " 17: 'kna',\n",
       " 18: 'ga',\n",
       " 19: 'pa',\n",
       " 20: 'ra',\n",
       " 21: 'yna',\n",
       " 22: 'patalosaw',\n",
       " 23: 'dha',\n",
       " 24: 'cha',\n",
       " 25: 'taamatar',\n",
       " 26: 'petchiryakha',\n",
       " 27: 'tha',\n",
       " 28: 'da',\n",
       " 29: 'motosaw',\n",
       " 30: 'ha',\n",
       " 31: 'chhya',\n",
       " 32: 'chha',\n",
       " 33: 'ba',\n",
       " 34: 'la',\n",
       " 35: 'jha'}"
      ]
     },
     "execution_count": 13,
     "metadata": {},
     "output_type": "execute_result"
    }
   ],
   "source": [
    "labels"
   ]
  },
  {
   "cell_type": "markdown",
   "metadata": {},
   "source": [
    "### Replacing class name by Integers"
   ]
  },
  {
   "cell_type": "code",
   "execution_count": 14,
   "metadata": {},
   "outputs": [],
   "source": [
    "y_test  = []\n",
    "y_train = []"
   ]
  },
  {
   "cell_type": "code",
   "execution_count": 15,
   "metadata": {},
   "outputs": [],
   "source": [
    "y_test  = test_label\n",
    "y_train = train_label"
   ]
  },
  {
   "cell_type": "code",
   "execution_count": 16,
   "metadata": {},
   "outputs": [],
   "source": [
    "for i in range(len(y_test)):\n",
    "    for j in range(len(labels)):\n",
    "        if labels[j] == y_test[i]:\n",
    "            y_test[i] = j\n",
    "            break"
   ]
  },
  {
   "cell_type": "code",
   "execution_count": 17,
   "metadata": {},
   "outputs": [],
   "source": [
    "for i in range(len(y_train)):\n",
    "    for j in range(len(labels)):\n",
    "        if labels[j] == y_train[i]:\n",
    "            y_train[i] = j\n",
    "            break"
   ]
  },
  {
   "cell_type": "code",
   "execution_count": 18,
   "metadata": {},
   "outputs": [
    {
     "name": "stdout",
     "output_type": "stream",
     "text": [
      "(10799,)\n",
      "(10799, 1024)\n"
     ]
    }
   ],
   "source": [
    "# Test\n",
    "print (y_test.shape)    \n",
    "print (test_data.shape)"
   ]
  },
  {
   "cell_type": "code",
   "execution_count": 19,
   "metadata": {},
   "outputs": [
    {
     "name": "stdout",
     "output_type": "stream",
     "text": [
      "(61199,)\n",
      "(61199, 1024)\n"
     ]
    }
   ],
   "source": [
    "# Train\n",
    "print (y_train.shape)\n",
    "print (train_data.shape)"
   ]
  },
  {
   "cell_type": "code",
   "execution_count": 20,
   "metadata": {},
   "outputs": [],
   "source": [
    "# Adding one more channel to labels\n",
    "y_tests = y_test.reshape(y_test.shape[0],1)\n",
    "y_tests = y_tests.T\n",
    "y_trains = y_train.reshape(y_train.shape[0],1)\n",
    "y_trains = y_trains.T"
   ]
  },
  {
   "cell_type": "markdown",
   "metadata": {},
   "source": [
    "### One-hot Encode"
   ]
  },
  {
   "cell_type": "code",
   "execution_count": 21,
   "metadata": {},
   "outputs": [],
   "source": [
    "from keras.utils import np_utils"
   ]
  },
  {
   "cell_type": "code",
   "execution_count": 22,
   "metadata": {},
   "outputs": [],
   "source": [
    "y_test = np_utils.to_categorical(y_tests)\n",
    "y_train = np_utils.to_categorical(y_trains)"
   ]
  },
  {
   "cell_type": "markdown",
   "metadata": {},
   "source": [
    "### Reshaping Variables"
   ]
  },
  {
   "cell_type": "code",
   "execution_count": 23,
   "metadata": {},
   "outputs": [],
   "source": [
    "y_test  = y_test.reshape(y_test.shape[1],y_test.shape[2])\n",
    "y_train = y_train.reshape(y_train.shape[1],y_train.shape[2])"
   ]
  },
  {
   "cell_type": "code",
   "execution_count": 24,
   "metadata": {},
   "outputs": [],
   "source": [
    "data_test  = test_data.reshape(test_data.shape[0], 32, 32, 1)\n",
    "data_train = train_data.reshape(train_data.shape[0], 32, 32, 1)"
   ]
  },
  {
   "cell_type": "code",
   "execution_count": 25,
   "metadata": {},
   "outputs": [],
   "source": [
    "data_test = np.asarray(data_test).astype(int)\n",
    "data_train = np.asarray(data_train).astype(int)"
   ]
  },
  {
   "cell_type": "markdown",
   "metadata": {},
   "source": [
    "### Model Building"
   ]
  },
  {
   "cell_type": "code",
   "execution_count": 26,
   "metadata": {},
   "outputs": [],
   "source": [
    "from keras.models import Sequential\n",
    "from keras.layers import Dense, Conv2D, Flatten, MaxPooling2D, Dropout\n",
    "from keras.callbacks import ModelCheckpoint"
   ]
  },
  {
   "cell_type": "code",
   "execution_count": 27,
   "metadata": {},
   "outputs": [],
   "source": [
    "# Number of classes\n",
    "classes = 36"
   ]
  },
  {
   "cell_type": "code",
   "execution_count": 28,
   "metadata": {},
   "outputs": [],
   "source": [
    "model = Sequential()\n",
    "model.add(Conv2D(32, (5, 5), input_shape=(32, 32, 1), activation='relu'))\n",
    "model.add(MaxPooling2D(pool_size=(2, 2), strides=(2, 2), padding='same'))\n",
    "model.add(Conv2D(64, (5, 5), activation='sigmoid'))\n",
    "model.add(MaxPooling2D(pool_size=(5, 5), strides=(5, 5), padding='same'))\n",
    "model.add(Flatten())\n",
    "model.add(Dense(1024, activation='relu'))\n",
    "model.add(Dropout(0.6))\n",
    "model.add(Dense(classes, activation='softmax'))"
   ]
  },
  {
   "cell_type": "markdown",
   "metadata": {},
   "source": [
    "### Compiling Model"
   ]
  },
  {
   "cell_type": "code",
   "execution_count": 29,
   "metadata": {},
   "outputs": [],
   "source": [
    "# loss=categorical_crossentropy\n",
    "# optimizer= adam"
   ]
  },
  {
   "cell_type": "code",
   "execution_count": 30,
   "metadata": {},
   "outputs": [],
   "source": [
    "model.compile(loss='categorical_crossentropy', optimizer='adam', metrics=['accuracy'])"
   ]
  },
  {
   "cell_type": "code",
   "execution_count": 31,
   "metadata": {},
   "outputs": [],
   "source": [
    "# Creating Checkpoint"
   ]
  },
  {
   "cell_type": "code",
   "execution_count": 32,
   "metadata": {},
   "outputs": [],
   "source": [
    "filepath = \"hindi_character_recognition.h5\"\n",
    "checkpoint1 = ModelCheckpoint(filepath, monitor='val_acc', verbose=1, save_best_only=True, mode='max')\n",
    "callbacks_list = [checkpoint1]"
   ]
  },
  {
   "cell_type": "markdown",
   "metadata": {},
   "source": [
    "### Training Model"
   ]
  },
  {
   "cell_type": "code",
   "execution_count": 43,
   "metadata": {},
   "outputs": [
    {
     "name": "stdout",
     "output_type": "stream",
     "text": [
      "Epoch 1/25\n",
      "956/957 [============================>.] - ETA: 0s - loss: 0.1561 - accuracy: 0.9484WARNING:tensorflow:Can save best model only with val_acc available, skipping.\n",
      "957/957 [==============================] - 22s 23ms/step - loss: 0.1561 - accuracy: 0.9484 - val_loss: 0.3071 - val_accuracy: 0.9178\n",
      "Epoch 2/25\n",
      "957/957 [==============================] - ETA: 0s - loss: 0.1463 - accuracy: 0.9507WARNING:tensorflow:Can save best model only with val_acc available, skipping.\n",
      "957/957 [==============================] - 22s 23ms/step - loss: 0.1463 - accuracy: 0.9507 - val_loss: 0.3206 - val_accuracy: 0.9145\n",
      "Epoch 3/25\n",
      "955/957 [============================>.] - ETA: 0s - loss: 0.1444 - accuracy: 0.9518WARNING:tensorflow:Can save best model only with val_acc available, skipping.\n",
      "957/957 [==============================] - 22s 23ms/step - loss: 0.1442 - accuracy: 0.9519 - val_loss: 0.3158 - val_accuracy: 0.9175\n",
      "Epoch 4/25\n",
      "957/957 [==============================] - ETA: 0s - loss: 0.1406 - accuracy: 0.9533WARNING:tensorflow:Can save best model only with val_acc available, skipping.\n",
      "957/957 [==============================] - 22s 23ms/step - loss: 0.1406 - accuracy: 0.9533 - val_loss: 0.3031 - val_accuracy: 0.9218\n",
      "Epoch 5/25\n",
      "956/957 [============================>.] - ETA: 0s - loss: 0.1386 - accuracy: 0.9538WARNING:tensorflow:Can save best model only with val_acc available, skipping.\n",
      "957/957 [==============================] - 22s 23ms/step - loss: 0.1386 - accuracy: 0.9538 - val_loss: 0.3035 - val_accuracy: 0.9199\n",
      "Epoch 6/25\n",
      "955/957 [============================>.] - ETA: 0s - loss: 0.1309 - accuracy: 0.9561WARNING:tensorflow:Can save best model only with val_acc available, skipping.\n",
      "957/957 [==============================] - 22s 23ms/step - loss: 0.1309 - accuracy: 0.9561 - val_loss: 0.3044 - val_accuracy: 0.9209\n",
      "Epoch 7/25\n",
      "957/957 [==============================] - ETA: 0s - loss: 0.1271 - accuracy: 0.9581WARNING:tensorflow:Can save best model only with val_acc available, skipping.\n",
      "957/957 [==============================] - 22s 23ms/step - loss: 0.1271 - accuracy: 0.9581 - val_loss: 0.3235 - val_accuracy: 0.9166\n",
      "Epoch 8/25\n",
      "955/957 [============================>.] - ETA: 0s - loss: 0.1308 - accuracy: 0.9560WARNING:tensorflow:Can save best model only with val_acc available, skipping.\n",
      "957/957 [==============================] - 22s 23ms/step - loss: 0.1308 - accuracy: 0.9559 - val_loss: 0.3182 - val_accuracy: 0.9199\n",
      "Epoch 9/25\n",
      "956/957 [============================>.] - ETA: 0s - loss: 0.1218 - accuracy: 0.9596WARNING:tensorflow:Can save best model only with val_acc available, skipping.\n",
      "957/957 [==============================] - 22s 23ms/step - loss: 0.1218 - accuracy: 0.9596 - val_loss: 0.3094 - val_accuracy: 0.9226\n",
      "Epoch 10/25\n",
      "956/957 [============================>.] - ETA: 0s - loss: 0.1166 - accuracy: 0.9617WARNING:tensorflow:Can save best model only with val_acc available, skipping.\n",
      "957/957 [==============================] - 22s 23ms/step - loss: 0.1167 - accuracy: 0.9617 - val_loss: 0.3275 - val_accuracy: 0.9196\n",
      "Epoch 11/25\n",
      "956/957 [============================>.] - ETA: 0s - loss: 0.1181 - accuracy: 0.9609WARNING:tensorflow:Can save best model only with val_acc available, skipping.\n",
      "957/957 [==============================] - 22s 23ms/step - loss: 0.1181 - accuracy: 0.9609 - val_loss: 0.3308 - val_accuracy: 0.9171\n",
      "Epoch 12/25\n",
      "955/957 [============================>.] - ETA: 0s - loss: 0.1155 - accuracy: 0.9610WARNING:tensorflow:Can save best model only with val_acc available, skipping.\n",
      "957/957 [==============================] - 23s 24ms/step - loss: 0.1154 - accuracy: 0.9610 - val_loss: 0.3348 - val_accuracy: 0.9202\n",
      "Epoch 13/25\n",
      "955/957 [============================>.] - ETA: 0s - loss: 0.1165 - accuracy: 0.9613WARNING:tensorflow:Can save best model only with val_acc available, skipping.\n",
      "957/957 [==============================] - 22s 23ms/step - loss: 0.1167 - accuracy: 0.9612 - val_loss: 0.3255 - val_accuracy: 0.9211\n",
      "Epoch 14/25\n",
      "957/957 [==============================] - ETA: 0s - loss: 0.1109 - accuracy: 0.9632WARNING:tensorflow:Can save best model only with val_acc available, skipping.\n",
      "957/957 [==============================] - 24s 25ms/step - loss: 0.1109 - accuracy: 0.9632 - val_loss: 0.3185 - val_accuracy: 0.9213\n",
      "Epoch 15/25\n",
      "955/957 [============================>.] - ETA: 0s - loss: 0.1048 - accuracy: 0.9648WARNING:tensorflow:Can save best model only with val_acc available, skipping.\n",
      "957/957 [==============================] - 22s 23ms/step - loss: 0.1048 - accuracy: 0.9648 - val_loss: 0.3286 - val_accuracy: 0.9219\n",
      "Epoch 16/25\n",
      "955/957 [============================>.] - ETA: 0s - loss: 0.1074 - accuracy: 0.9638WARNING:tensorflow:Can save best model only with val_acc available, skipping.\n",
      "957/957 [==============================] - 22s 23ms/step - loss: 0.1074 - accuracy: 0.9638 - val_loss: 0.3347 - val_accuracy: 0.9207\n",
      "Epoch 17/25\n",
      "957/957 [==============================] - ETA: 0s - loss: 0.1047 - accuracy: 0.9650WARNING:tensorflow:Can save best model only with val_acc available, skipping.\n",
      "957/957 [==============================] - 22s 23ms/step - loss: 0.1047 - accuracy: 0.9650 - val_loss: 0.3448 - val_accuracy: 0.9193\n",
      "Epoch 18/25\n",
      "957/957 [==============================] - ETA: 0s - loss: 0.1057 - accuracy: 0.9651WARNING:tensorflow:Can save best model only with val_acc available, skipping.\n",
      "957/957 [==============================] - 22s 23ms/step - loss: 0.1057 - accuracy: 0.9651 - val_loss: 0.3453 - val_accuracy: 0.9185\n",
      "Epoch 19/25\n",
      "955/957 [============================>.] - ETA: 0s - loss: 0.1003 - accuracy: 0.9663WARNING:tensorflow:Can save best model only with val_acc available, skipping.\n",
      "957/957 [==============================] - 22s 23ms/step - loss: 0.1004 - accuracy: 0.9663 - val_loss: 0.3385 - val_accuracy: 0.9192\n",
      "Epoch 20/25\n",
      "956/957 [============================>.] - ETA: 0s - loss: 0.0990 - accuracy: 0.9670WARNING:tensorflow:Can save best model only with val_acc available, skipping.\n",
      "957/957 [==============================] - 22s 23ms/step - loss: 0.0991 - accuracy: 0.9670 - val_loss: 0.3476 - val_accuracy: 0.9209\n",
      "Epoch 21/25\n",
      "955/957 [============================>.] - ETA: 0s - loss: 0.0977 - accuracy: 0.9671WARNING:tensorflow:Can save best model only with val_acc available, skipping.\n",
      "957/957 [==============================] - 22s 23ms/step - loss: 0.0977 - accuracy: 0.9672 - val_loss: 0.3513 - val_accuracy: 0.9193\n",
      "Epoch 22/25\n",
      "954/957 [============================>.] - ETA: 0s - loss: 0.0987 - accuracy: 0.9678WARNING:tensorflow:Can save best model only with val_acc available, skipping.\n",
      "957/957 [==============================] - 23s 24ms/step - loss: 0.0987 - accuracy: 0.9678 - val_loss: 0.3632 - val_accuracy: 0.9203\n",
      "Epoch 23/25\n",
      "956/957 [============================>.] - ETA: 0s - loss: 0.0947 - accuracy: 0.9686WARNING:tensorflow:Can save best model only with val_acc available, skipping.\n",
      "957/957 [==============================] - 23s 24ms/step - loss: 0.0947 - accuracy: 0.9685 - val_loss: 0.3719 - val_accuracy: 0.9189\n",
      "Epoch 24/25\n",
      "955/957 [============================>.] - ETA: 0s - loss: 0.0934 - accuracy: 0.9688WARNING:tensorflow:Can save best model only with val_acc available, skipping.\n",
      "957/957 [==============================] - 22s 23ms/step - loss: 0.0933 - accuracy: 0.9688 - val_loss: 0.3604 - val_accuracy: 0.9194\n",
      "Epoch 25/25\n",
      "957/957 [==============================] - ETA: 0s - loss: 0.0911 - accuracy: 0.9690WARNING:tensorflow:Can save best model only with val_acc available, skipping.\n",
      "957/957 [==============================] - 23s 24ms/step - loss: 0.0911 - accuracy: 0.9690 - val_loss: 0.3642 - val_accuracy: 0.9189\n"
     ]
    }
   ],
   "source": [
    "history = model.fit(data_train, y_train, validation_data=(data_test, y_test), epochs=25, batch_size=64, callbacks=callbacks_list)"
   ]
  },
  {
   "cell_type": "markdown",
   "metadata": {},
   "source": [
    "### Evaluate model on test dataset"
   ]
  },
  {
   "cell_type": "code",
   "execution_count": 44,
   "metadata": {},
   "outputs": [],
   "source": [
    "scores = model.evaluate(data_test, y_test, verbose=0)"
   ]
  },
  {
   "cell_type": "code",
   "execution_count": 45,
   "metadata": {},
   "outputs": [
    {
     "name": "stdout",
     "output_type": "stream",
     "text": [
      "Model Accuracy: 91.89%\n"
     ]
    }
   ],
   "source": [
    "print(\"Model Accuracy: %.2f%%\" % (scores[1] * 100))"
   ]
  },
  {
   "cell_type": "markdown",
   "metadata": {},
   "source": [
    "### Visualizing the Results"
   ]
  },
  {
   "cell_type": "code",
   "execution_count": 46,
   "metadata": {},
   "outputs": [],
   "source": [
    "import matplotlib.pyplot as plt\n"
   ]
  },
  {
   "cell_type": "code",
   "execution_count": 48,
   "metadata": {},
   "outputs": [
    {
     "data": {
      "image/png": "[encoded data removed]",
      "text/plain": [
       "<Figure size 432x288 with 1 Axes>"
      ]
     },
     "metadata": {
      "needs_background": "light"
     },
     "output_type": "display_data"
    }
   ],
   "source": [
    "plt.plot(history.history['loss'])\n",
    "plt.title('model loss')\n",
    "plt.ylabel('loss')\n",
    "plt.xlabel('epoch')\n",
    "plt.legend(['train', 'test'], loc='upper left')\n",
    "plt.savefig('Loss')\n",
    "plt.show()"
   ]
  },
  {
   "cell_type": "code",
   "execution_count": 49,
   "metadata": {},
   "outputs": [
    {
     "data": {
      "image/png": "[encoded data removed]",
      "text/plain": [
       "<Figure size 432x288 with 1 Axes>"
      ]
     },
     "metadata": {
      "needs_background": "light"
     },
     "output_type": "display_data"
    }
   ],
   "source": [
    "plt.plot(history.history['accuracy'])\n",
    "plt.title('accuracy')\n",
    "plt.ylabel('accuracy')\n",
    "plt.xlabel('epoch')\n",
    "plt.legend(['train', 'test'], loc='upper left')\n",
    "plt.savefig('Accuracy')\n",
    "plt.show()"
   ]
  },
  {
   "cell_type": "markdown",
   "metadata": {},
   "source": [
    "### Saving the Model"
   ]
  },
  {
   "cell_type": "code",
   "execution_count": 45,
   "metadata": {},
   "outputs": [],
   "source": [
    "model.save('Hindi_charcter_recognition.h5')"
   ]
  }
 ],
 "metadata": {
  "kernelspec": {
   "display_name": "Python 3",
   "language": "python",
   "name": "python3"
  },
  "language_info": {
   "codemirror_mode": {
    "name": "ipython",
    "version": 3
   },
   "file_extension": ".py",
   "mimetype": "text/x-python",
   "name": "python",
   "nbconvert_exporter": "python",
   "pygments_lexer": "ipython3",
   "version": "3.8.5"
  }
 },
 "nbformat": 4,
 "nbformat_minor": 4
}
