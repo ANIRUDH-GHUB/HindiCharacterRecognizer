{
 "cells": [
  {
   "cell_type": "markdown",
   "metadata": {},
   "source": [
    "# Hindi Character Recognition"
   ]
  },
  {
   "cell_type": "code",
   "execution_count": 1,
   "metadata": {},
   "outputs": [],
   "source": [
    "import tensorflow as tf\n",
    "gpus = tf.config.experimental.list_physical_devices('GPU')\n",
    "if gpus:\n",
    "  try:\n",
    "    for gpu in gpus:\n",
    "      tf.config.experimental.set_memory_growth(gpu, True)\n",
    "  except RuntimeError as e:\n",
    "    print(e)"
   ]
  },
  {
   "cell_type": "code",
   "execution_count": 2,
   "metadata": {},
   "outputs": [],
   "source": [
    "import cv2\n",
    "from keras.models import load_model\n",
    "import numpy as np\n",
    "import os\n",
    "from collections import deque"
   ]
  },
  {
   "cell_type": "markdown",
   "metadata": {},
   "source": [
    "### Loading trained Model"
   ]
  },
  {
   "cell_type": "code",
   "execution_count": 3,
   "metadata": {},
   "outputs": [],
   "source": [
    "model = load_model('Hindi_charcter_recognition.h5')"
   ]
  },
  {
   "cell_type": "markdown",
   "metadata": {},
   "source": [
    "### Loading labels"
   ]
  },
  {
   "cell_type": "code",
   "execution_count": 4,
   "metadata": {},
   "outputs": [],
   "source": [
    "# Dictionary for labels\n",
    "labels = {}"
   ]
  },
  {
   "cell_type": "code",
   "execution_count": 5,
   "metadata": {},
   "outputs": [],
   "source": [
    "# Path to classes\n",
    "path = 'Dataset/Test'"
   ]
  },
  {
   "cell_type": "code",
   "execution_count": 6,
   "metadata": {},
   "outputs": [],
   "source": [
    "# Adding lables in Dictionary\n",
    "i = 0\n",
    "for folder in os.listdir(path):\n",
    "    fold = folder[13:]\n",
    "    labels[i] = fold\n",
    "    i += 1"
   ]
  },
  {
   "cell_type": "code",
   "execution_count": 7,
   "metadata": {},
   "outputs": [
    {
     "data": {
      "text/plain": [
       "{0: 'na',\n",
       " 1: 'adna',\n",
       " 2: 'gya',\n",
       " 3: 'yaw',\n",
       " 4: 'pha',\n",
       " 5: 'ma',\n",
       " 6: 'ja',\n",
       " 7: 'gha',\n",
       " 8: 'tra',\n",
       " 9: 'dhaa',\n",
       " 10: 'ka',\n",
       " 11: 'waw',\n",
       " 12: 'bha',\n",
       " 13: 'thaa',\n",
       " 14: 'daa',\n",
       " 15: 'tabala',\n",
       " 16: 'kha',\n",
       " 17: 'kna',\n",
       " 18: 'ga',\n",
       " 19: 'pa',\n",
       " 20: 'ra',\n",
       " 21: 'yna',\n",
       " 22: 'patalosaw',\n",
       " 23: 'dha',\n",
       " 24: 'cha',\n",
       " 25: 'taamatar',\n",
       " 26: 'petchiryakha',\n",
       " 27: 'tha',\n",
       " 28: 'da',\n",
       " 29: 'motosaw',\n",
       " 30: 'ha',\n",
       " 31: 'chhya',\n",
       " 32: 'chha',\n",
       " 33: 'ba',\n",
       " 34: 'la',\n",
       " 35: 'jha'}"
      ]
     },
     "execution_count": 7,
     "metadata": {},
     "output_type": "execute_result"
    }
   ],
   "source": [
    "labels"
   ]
  },
  {
   "cell_type": "markdown",
   "metadata": {},
   "source": [
    "### Initialising Camera and ROI"
   ]
  },
  {
   "cell_type": "code",
   "execution_count": 8,
   "metadata": {},
   "outputs": [],
   "source": [
    "# Opening Camera\n",
    "cap = cv2.VideoCapture(0)"
   ]
  },
  {
   "cell_type": "code",
   "execution_count": 9,
   "metadata": {
    "scrolled": true
   },
   "outputs": [],
   "source": [
    "pred_class=0\n",
    "pts = deque(maxlen=512)\n",
    "blackboard = np.zeros((480, 640, 3), dtype=np.uint8)\n",
    "digit = np.zeros((200, 200, 3), dtype=np.uint8)\n",
    "flag = True\n",
    "while flag:\n",
    "    # Read image\n",
    "    ret, frame = cap.read()\n",
    "    # Flip Image\n",
    "    frame = cv2.flip(frame, 1)\n",
    "    # BGR2HSV\n",
    "    hsv = cv2.cvtColor(frame, cv2.COLOR_BGR2HSV)\n",
    "    # Extracting color from image\n",
    "    mask = cv2.inRange(hsv, np.array([110, 50, 50]), np.array([130, 255, 255]))\n",
    "    # Blurring image\n",
    "    median = cv2.medianBlur(mask, 15)\n",
    "    blur = cv2.GaussianBlur(median, (5,5), 0)\n",
    "    \n",
    "    # Threshold image\n",
    "    ret, thresh = cv2.threshold(blur, 0, 255, cv2.THRESH_BINARY + cv2.THRESH_OTSU)\n",
    "    # Finding Contours\n",
    "    contours, heirarchy = cv2.findContours(thresh.copy(), cv2.RETR_TREE, cv2.CHAIN_APPROX_NONE)\n",
    "    \n",
    "    center = None\n",
    "    \n",
    "    if len(contours) >= 1:\n",
    "        contour = max(contours, key=cv2.contourArea)\n",
    "        if cv2.contourArea(contour) > 250:\n",
    "            ((x, y), radius) = cv2.minEnclosingCircle(contour)\n",
    "            cv2.circle(frame, (int(x), int(y)), int(radius), (0, 255, 255), 2)\n",
    "            cv2.circle(frame, center, 5, (0, 0, 255), -1)\n",
    "            M = cv2.moments(contour)\n",
    "            center = (int(M['m10'] / M['m00']), int(M['m01'] / M['m00']))\n",
    "            pts.appendleft(center)\n",
    "            for i in range(1, len(pts)):\n",
    "                if pts[i - 1] is None or pts[i] is None:\n",
    "                    continue\n",
    "                cv2.line(blackboard, pts[i - 1], pts[i], (255, 255, 255), 10)\n",
    "                cv2.line(frame, pts[i - 1], pts[i], (0, 0, 255), 5)\n",
    "    \n",
    "    elif len(contours) == 0:\n",
    "        if len(pts) != []:\n",
    "            blackboard_gray = cv2.cvtColor(blackboard, cv2.COLOR_BGR2GRAY)\n",
    "            blur1 = cv2.medianBlur(blackboard_gray, 15)\n",
    "            blur1 = cv2.GaussianBlur(blur1, (5, 5), 0)\n",
    "            thresh1 = cv2.threshold(blur1, 0, 255, cv2.THRESH_BINARY + cv2.THRESH_OTSU)[1]\n",
    "            blackboard_cnts, heirarchy_1 = cv2.findContours(thresh1.copy(), cv2.RETR_TREE, cv2.CHAIN_APPROX_NONE)\n",
    "            if len(blackboard_cnts) >= 1:\n",
    "                cnt = max(blackboard_cnts, key=cv2.contourArea)\n",
    "                if cv2.contourArea(cnt) > 2000:\n",
    "                    x, y, w, h = cv2.boundingRect(cnt)\n",
    "                    digit = blackboard_gray[y:y + h, x:x + w]\n",
    "                    # newImage = process_letter(digit)\n",
    "                    \n",
    "                    im = cv2.resize(digit, (32, 32))\n",
    "                    im = np.array(im, dtype=np.float32)\n",
    "                    im = np.reshape(im, (-1, 32, 32, 1))\n",
    "                    pred_probab = model.predict(im)[0]\n",
    "                    pred_class = list(pred_probab).index(max(pred_probab))\n",
    "\n",
    "            pts = deque(maxlen=512)\n",
    "            blackboard = np.zeros((480, 640, 3), dtype=np.uint8)\n",
    "    \n",
    "    cv2.putText(frame, \"Conv Network :  \" + str(labels[pred_class]), (10, 470),\n",
    "                cv2.FONT_HERSHEY_SIMPLEX, 0.7, (0, 0, 255), 2)\n",
    "    \n",
    "    # Showing predictions\n",
    "    cv2.imshow('asd',frame)\n",
    "    cv2.imshow(\"Contours\", thresh)\n",
    "      \n",
    "    # Taking input key\n",
    "    keypress = cv2.waitKey(1)\n",
    "        \n",
    "    # If \"q\" is pressed\n",
    "    # Terminate\n",
    "    if keypress == ord('q'):\n",
    "        flag = False\n",
    "\n",
    "cap.release()\n",
    "cv2.destroyAllWindows()"
   ]
  }
 ],
 "metadata": {
  "kernelspec": {
   "display_name": "Python 3",
   "language": "python",
   "name": "python3"
  },
  "language_info": {
   "codemirror_mode": {
    "name": "ipython",
    "version": 3
   },
   "file_extension": ".py",
   "mimetype": "text/x-python",
   "name": "python",
   "nbconvert_exporter": "python",
   "pygments_lexer": "ipython3",
   "version": "3.8.5"
  }
 },
 "nbformat": 4,
 "nbformat_minor": 4
}
